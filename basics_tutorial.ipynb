{
 "cells": [
  {
   "cell_type": "markdown",
   "metadata": {},
   "source": [
    "Table of Contents:\n",
    "1. Introduction\n",
    "    * What is Python\n",
    "    * Jupyter\n",
    "    * Anaconda\n",
    "    \n",
    "    \n",
    "2. Data Structures and Data Types in Python\n",
    "    * Primitive \n",
    "        * Integers\n",
    "        * Float\n",
    "        * Boolean\n",
    "        * Strings\n",
    "    * Non-Primitive\n",
    "        * Tuples\n",
    "        * Dictionary\n",
    "        * Sets\n",
    "        * Lists\n",
    "  \n",
    "  \n",
    "3. For/While Loops and If Statements\n",
    "\n",
    "\n",
    "4. User Defined Functions\n",
    "\n",
    "\n",
    "5. Independent Challenge Problems\n"
   ]
  },
  {
   "cell_type": "markdown",
   "metadata": {},
   "source": [
    "# 1. Introduction \n",
    "**A. What is Python?**\n",
    "- Freely available, general purpose programming language that can be used on any modern computer operating system.\n",
    "- Used for: processing text, numbers, images, scientific data \n",
    "- Python is a standard tool for most modern computer scientists and businesses\n",
    "- Python is an interpreted language - not converted to computer readable code before the program is run but at runtime\n",
    "- It is object-oriented and implementation of objects and classes allows for the greater reuse of code and ease of maintanability.\n",
    "\n",
    "\n",
    "- Some applications of Python :\n",
    "    * Automating manual processes within a business\n",
    "    * Reading and writing to MySQL\n",
    "    * Web development\n",
    "    * Working with files\n",
    "    * Building a Predictive Model\n",
    "    \n",
    "Why learn it?\n",
    "- Python is an excellent language for general purpose programming. It is easy to read, write and learn as compared to other languages.\n",
    "\n",
    "**B. Jupyter Notebooks**\n",
    "\n",
    "- The Jupyter Notebook application allows you to edit docuements that display the input and output of a Python or R langauge script. Once saved you can share these files with others (Python and R are included by default, but with customization, Notebook can run several other kernel enviornments)\n",
    "- Jupyter Notebook runs on your local desktop, and when prompted to open, it will open in a new browser and display the file strcuture on your computer.\n",
    "- You have the option to create a new folder or file, and then to also upload any folders or files.\n",
    "- Great for wiriting exploratory code or one-off analyses\n",
    "\n",
    "**C. Anaconda Distribution**\n",
    "\n",
    "- Anaconda is a free and open-source distribution of the Python and R programming lanaguages for scientific computing (data science, machine learning applications, large-scale data processing, predictive analytics, etc.) that aims to simplify package management and deployment.\n",
    "- Pacakage versions are managed by the package management system conda.\n",
    "- The anaconda distribution is used by over 15 million users and includes more than 1500 popular data science packages suitable for Windows, Linux, and MacOS.\n",
    "- You are mostly likely running a Jupyter Notebook through the Anaconda Distribution."
   ]
  },
  {
   "cell_type": "markdown",
   "metadata": {},
   "source": [
    "# 2. Data Structures and Data Types in Python"
   ]
  },
  {
   "cell_type": "code",
   "execution_count": 100,
   "metadata": {},
   "outputs": [],
   "source": [
    "#First we are going to set a variable x to 6 and a variable y to 4 so we can perform some basic operations\n",
    "# We are setting them as floats since they have decimals\n",
    "x = 6.0\n",
    "y = 4.0"
   ]
  },
  {
   "cell_type": "markdown",
   "metadata": {},
   "source": [
    "## Basic Operations"
   ]
  },
  {
   "cell_type": "code",
   "execution_count": 2,
   "metadata": {},
   "outputs": [
    {
     "name": "stdout",
     "output_type": "stream",
     "text": [
      "10.0\n",
      "2.0\n",
      "24.0\n",
      "1.5\n",
      "2.0\n",
      "6.0\n",
      "1296.0\n"
     ]
    }
   ],
   "source": [
    "print(x + y) # Addition\n",
    "print(x - y) # Subtraction\n",
    "print(x * y) # Multiplication\n",
    "print(x / y) # Quotient\n",
    "print(x % y) # Remainder\n",
    "print(abs(x)) # Absolute Value\n",
    "print( x**y) # Exponents"
   ]
  },
  {
   "cell_type": "markdown",
   "metadata": {},
   "source": [
    "# Primitive  \n",
    "These are the most basic building blocks for data manipulation. They are different data types.\n",
    "\n"
   ]
  },
  {
   "cell_type": "markdown",
   "metadata": {},
   "source": [
    "## Integers"
   ]
  },
  {
   "cell_type": "markdown",
   "metadata": {},
   "source": [
    "- represent numeric data, negative and positive whole numbers"
   ]
  },
  {
   "cell_type": "code",
   "execution_count": 101,
   "metadata": {},
   "outputs": [],
   "source": [
    "x=-4\n",
    "y=12"
   ]
  },
  {
   "cell_type": "code",
   "execution_count": 102,
   "metadata": {},
   "outputs": [
    {
     "data": {
      "text/plain": [
       "8"
      ]
     },
     "execution_count": 102,
     "metadata": {},
     "output_type": "execute_result"
    }
   ],
   "source": [
    "x+y"
   ]
  },
  {
   "cell_type": "code",
   "execution_count": 103,
   "metadata": {},
   "outputs": [
    {
     "data": {
      "text/plain": [
       "-16"
      ]
     },
     "execution_count": 103,
     "metadata": {},
     "output_type": "execute_result"
    }
   ],
   "source": [
    "x-y"
   ]
  },
  {
   "cell_type": "code",
   "execution_count": 104,
   "metadata": {},
   "outputs": [
    {
     "data": {
      "text/plain": [
       "-0.3333333333333333"
      ]
     },
     "execution_count": 104,
     "metadata": {},
     "output_type": "execute_result"
    }
   ],
   "source": [
    "x/y"
   ]
  },
  {
   "cell_type": "code",
   "execution_count": 105,
   "metadata": {},
   "outputs": [
    {
     "data": {
      "text/plain": [
       "16777216"
      ]
     },
     "execution_count": 105,
     "metadata": {},
     "output_type": "execute_result"
    }
   ],
   "source": [
    "x**y"
   ]
  },
  {
   "cell_type": "markdown",
   "metadata": {},
   "source": [
    "## Float"
   ]
  },
  {
   "cell_type": "markdown",
   "metadata": {},
   "source": [
    "- refers to floating point number\n",
    "- used for rational and decimals \n"
   ]
  },
  {
   "cell_type": "code",
   "execution_count": 106,
   "metadata": {},
   "outputs": [],
   "source": [
    "x=4.5\n",
    "y=2"
   ]
  },
  {
   "cell_type": "code",
   "execution_count": 9,
   "metadata": {},
   "outputs": [
    {
     "data": {
      "text/plain": [
       "6.5"
      ]
     },
     "execution_count": 9,
     "metadata": {},
     "output_type": "execute_result"
    }
   ],
   "source": [
    "x+y"
   ]
  },
  {
   "cell_type": "code",
   "execution_count": 10,
   "metadata": {},
   "outputs": [
    {
     "data": {
      "text/plain": [
       "2.5"
      ]
     },
     "execution_count": 10,
     "metadata": {},
     "output_type": "execute_result"
    }
   ],
   "source": [
    "x-y"
   ]
  },
  {
   "cell_type": "code",
   "execution_count": 118,
   "metadata": {
    "scrolled": true
   },
   "outputs": [
    {
     "ename": "TypeError",
     "evalue": "unsupported operand type(s) for /: 'str' and 'str'",
     "output_type": "error",
     "traceback": [
      "\u001b[1;31m---------------------------------------------------------------------------\u001b[0m",
      "\u001b[1;31mTypeError\u001b[0m                                 Traceback (most recent call last)",
      "\u001b[1;32m<ipython-input-118-a2dd4ac70d63>\u001b[0m in \u001b[0;36m<module>\u001b[1;34m\u001b[0m\n\u001b[1;32m----> 1\u001b[1;33m \u001b[0mx\u001b[0m\u001b[1;33m/\u001b[0m\u001b[0my\u001b[0m\u001b[1;33m\u001b[0m\u001b[1;33m\u001b[0m\u001b[0m\n\u001b[0m",
      "\u001b[1;31mTypeError\u001b[0m: unsupported operand type(s) for /: 'str' and 'str'"
     ]
    }
   ],
   "source": [
    "x/y"
   ]
  },
  {
   "cell_type": "code",
   "execution_count": 12,
   "metadata": {},
   "outputs": [
    {
     "data": {
      "text/plain": [
       "20.25"
      ]
     },
     "execution_count": 12,
     "metadata": {},
     "output_type": "execute_result"
    }
   ],
   "source": [
    "x**y"
   ]
  },
  {
   "cell_type": "markdown",
   "metadata": {},
   "source": [
    "## Boolean"
   ]
  },
  {
   "cell_type": "markdown",
   "metadata": {},
   "source": [
    "\n",
    "- can take up True or False\n",
    "- interchangeable with 1 or 0\n",
    "- used for comparison and conditional expressions"
   ]
  },
  {
   "cell_type": "code",
   "execution_count": 107,
   "metadata": {},
   "outputs": [],
   "source": [
    "x=4.5\n",
    "y=2.0"
   ]
  },
  {
   "cell_type": "code",
   "execution_count": 108,
   "metadata": {},
   "outputs": [
    {
     "data": {
      "text/plain": [
       "False"
      ]
     },
     "execution_count": 108,
     "metadata": {},
     "output_type": "execute_result"
    }
   ],
   "source": [
    "x==y"
   ]
  },
  {
   "cell_type": "code",
   "execution_count": 109,
   "metadata": {},
   "outputs": [
    {
     "data": {
      "text/plain": [
       "True"
      ]
     },
     "execution_count": 109,
     "metadata": {},
     "output_type": "execute_result"
    }
   ],
   "source": [
    "x>y"
   ]
  },
  {
   "cell_type": "code",
   "execution_count": 110,
   "metadata": {},
   "outputs": [
    {
     "name": "stdout",
     "output_type": "stream",
     "text": [
      "True\n",
      "True\n",
      "1\n"
     ]
    }
   ],
   "source": [
    "x = True\n",
    "y = False\n",
    "print(x==1)\n",
    "print(y==0)\n",
    "print(x+y)"
   ]
  },
  {
   "cell_type": "markdown",
   "metadata": {},
   "source": [
    "## Strings "
   ]
  },
  {
   "cell_type": "code",
   "execution_count": 111,
   "metadata": {},
   "outputs": [
    {
     "data": {
      "text/plain": [
       "'Car&Truck'"
      ]
     },
     "execution_count": 111,
     "metadata": {},
     "output_type": "execute_result"
    }
   ],
   "source": [
    "# Strings\n",
    "x = 'Car'\n",
    "y = 'Truck'\n",
    "\n",
    "x + '&'  + y"
   ]
  },
  {
   "cell_type": "code",
   "execution_count": 112,
   "metadata": {},
   "outputs": [
    {
     "data": {
      "text/plain": [
       "'CarCar'"
      ]
     },
     "execution_count": 112,
     "metadata": {},
     "output_type": "execute_result"
    }
   ],
   "source": [
    "# Repeat strings\n",
    "x * 2"
   ]
  },
  {
   "cell_type": "code",
   "execution_count": 19,
   "metadata": {},
   "outputs": [
    {
     "name": "stdout",
     "output_type": "stream",
     "text": [
      "e\n"
     ]
    }
   ],
   "source": [
    "# Return character using the index\n",
    "# Python index starts at 0\n",
    "z = 'Hello'\n",
    "print(z[1])"
   ]
  },
  {
   "cell_type": "code",
   "execution_count": 20,
   "metadata": {},
   "outputs": [
    {
     "data": {
      "text/plain": [
       "5"
      ]
     },
     "execution_count": 20,
     "metadata": {},
     "output_type": "execute_result"
    }
   ],
   "source": [
    "# Print length of strings\n",
    "len(z)"
   ]
  },
  {
   "cell_type": "code",
   "execution_count": 21,
   "metadata": {},
   "outputs": [
    {
     "data": {
      "text/plain": [
       "'Hello World'"
      ]
     },
     "execution_count": 21,
     "metadata": {},
     "output_type": "execute_result"
    }
   ],
   "source": [
    "# String Concatenation\n",
    "z  + ' ' + 'World' "
   ]
  },
  {
   "cell_type": "code",
   "execution_count": 22,
   "metadata": {},
   "outputs": [
    {
     "name": "stdout",
     "output_type": "stream",
     "text": [
      "lo\n"
     ]
    }
   ],
   "source": [
    "# Range slicing\n",
    "z1 = z[3:]\n",
    "\n",
    "print(z1)"
   ]
  },
  {
   "cell_type": "code",
   "execution_count": 23,
   "metadata": {},
   "outputs": [
    {
     "name": "stdout",
     "output_type": "stream",
     "text": [
      "Home\n"
     ]
    }
   ],
   "source": [
    "# More slicing\n",
    "w = 'Welcome'\n",
    "z2 = z[0] + w[4:]\n",
    "print(z2)"
   ]
  },
  {
   "cell_type": "code",
   "execution_count": 113,
   "metadata": {},
   "outputs": [
    {
     "data": {
      "text/plain": [
       "'42'"
      ]
     },
     "execution_count": 113,
     "metadata": {},
     "output_type": "execute_result"
    }
   ],
   "source": [
    "# Strings can also be alpha-numeric characters and we use the + operation to concatenate strings\n",
    "a = '4'\n",
    "b = '2'\n",
    "\n",
    "a + b"
   ]
  },
  {
   "cell_type": "markdown",
   "metadata": {},
   "source": [
    "## Implicit Data Conversion"
   ]
  },
  {
   "cell_type": "markdown",
   "metadata": {},
   "source": [
    "- compiler automatically handles data conversion"
   ]
  },
  {
   "cell_type": "code",
   "execution_count": 117,
   "metadata": {},
   "outputs": [],
   "source": [
    "# Variables\n",
    "x = 'Car'\n",
    "y = 'Truck'\n",
    "z = 'Hello'\n",
    "w = 'Welcome'\n",
    "\n",
    "x1int = 10\n",
    "x2int = 3"
   ]
  },
  {
   "cell_type": "code",
   "execution_count": 115,
   "metadata": {},
   "outputs": [
    {
     "ename": "TypeError",
     "evalue": "unsupported operand type(s) for /: 'str' and 'str'",
     "output_type": "error",
     "traceback": [
      "\u001b[1;31m---------------------------------------------------------------------------\u001b[0m",
      "\u001b[1;31mTypeError\u001b[0m                                 Traceback (most recent call last)",
      "\u001b[1;32m<ipython-input-115-5e0371777262>\u001b[0m in \u001b[0;36m<module>\u001b[1;34m\u001b[0m\n\u001b[0;32m      1\u001b[0m \u001b[1;31m# You see that python tried to divide these two variables but\u001b[0m\u001b[1;33m\u001b[0m\u001b[1;33m\u001b[0m\u001b[1;33m\u001b[0m\u001b[0m\n\u001b[0;32m      2\u001b[0m \u001b[1;31m# couldn't convert them to floats so it didn't and throws an error\u001b[0m\u001b[1;33m\u001b[0m\u001b[1;33m\u001b[0m\u001b[1;33m\u001b[0m\u001b[0m\n\u001b[1;32m----> 3\u001b[1;33m \u001b[0mx\u001b[0m\u001b[1;33m/\u001b[0m\u001b[0my\u001b[0m\u001b[1;33m\u001b[0m\u001b[1;33m\u001b[0m\u001b[0m\n\u001b[0m",
      "\u001b[1;31mTypeError\u001b[0m: unsupported operand type(s) for /: 'str' and 'str'"
     ]
    }
   ],
   "source": [
    "# You see that python tried to divide these two variables but \n",
    "# couldn't convert them to floats so it didn't and throws an error\n",
    "x/y"
   ]
  },
  {
   "cell_type": "code",
   "execution_count": 116,
   "metadata": {},
   "outputs": [
    {
     "name": "stdout",
     "output_type": "stream",
     "text": [
      "<class 'int'>\n",
      "<class 'int'>\n"
     ]
    }
   ],
   "source": [
    "# You see that x1int and x2int are taken in as integers when the variable is set\n",
    "print(type(x1int))\n",
    "print(type(x2int))"
   ]
  },
  {
   "cell_type": "code",
   "execution_count": 28,
   "metadata": {},
   "outputs": [
    {
     "name": "stdout",
     "output_type": "stream",
     "text": [
      "3.3333333333333335\n",
      "<class 'float'>\n"
     ]
    }
   ],
   "source": [
    "# You see that python takes care of the data type conversion by changing \n",
    "# from an int to a float to make the division possible\n",
    "print(x1int/x2int)\n",
    "print(type(x1int/x2int))"
   ]
  },
  {
   "cell_type": "markdown",
   "metadata": {},
   "source": [
    "## Explicit Data Conversion"
   ]
  },
  {
   "cell_type": "markdown",
   "metadata": {},
   "source": [
    "- Explicit Type Conversion is also called Type Casting, the data types of object are converted using predefined function by user."
   ]
  },
  {
   "cell_type": "code",
   "execution_count": 29,
   "metadata": {},
   "outputs": [
    {
     "ename": "TypeError",
     "evalue": "can only concatenate str (not \"int\") to str",
     "output_type": "error",
     "traceback": [
      "\u001b[1;31m---------------------------------------------------------------------------\u001b[0m",
      "\u001b[1;31mTypeError\u001b[0m                                 Traceback (most recent call last)",
      "\u001b[1;32m<ipython-input-29-a56168c706f3>\u001b[0m in \u001b[0;36m<module>\u001b[1;34m\u001b[0m\n\u001b[0;32m      2\u001b[0m \u001b[0mw\u001b[0m \u001b[1;33m=\u001b[0m \u001b[1;36m2\u001b[0m\u001b[1;33m\u001b[0m\u001b[1;33m\u001b[0m\u001b[0m\n\u001b[0;32m      3\u001b[0m \u001b[0mv\u001b[0m \u001b[1;33m=\u001b[0m \u001b[1;34m\"The Godfather: Part \"\u001b[0m\u001b[1;33m\u001b[0m\u001b[1;33m\u001b[0m\u001b[0m\n\u001b[1;32m----> 4\u001b[1;33m \u001b[0mfave_movie\u001b[0m \u001b[1;33m=\u001b[0m \u001b[0mv\u001b[0m \u001b[1;33m+\u001b[0m \u001b[0mw\u001b[0m\u001b[1;33m\u001b[0m\u001b[1;33m\u001b[0m\u001b[0m\n\u001b[0m",
      "\u001b[1;31mTypeError\u001b[0m: can only concatenate str (not \"int\") to str"
     ]
    }
   ],
   "source": [
    "# so here we try implicity\n",
    "w = 2\n",
    "v = \"The Godfather: Part \"\n",
    "fave_movie = v + w"
   ]
  },
  {
   "cell_type": "code",
   "execution_count": 30,
   "metadata": {},
   "outputs": [
    {
     "name": "stdout",
     "output_type": "stream",
     "text": [
      "The Godfather: Part 2\n"
     ]
    }
   ],
   "source": [
    "# now we try explicity by changing the integer to a str and then we are able to concatenate\n",
    "w = 2\n",
    "v = \"The Godfather: Part \"\n",
    "fave_movie = v + str(w)\n",
    "print(fave_movie)"
   ]
  },
  {
   "cell_type": "markdown",
   "metadata": {},
   "source": [
    "# Non-Primative"
   ]
  },
  {
   "cell_type": "markdown",
   "metadata": {},
   "source": [
    "## Tuples"
   ]
  },
  {
   "cell_type": "markdown",
   "metadata": {},
   "source": [
    "- a sequence of immutable (cannot be changed once created) Python objects\n",
    "- tuples are sequences, just like lists\n",
    "- the difference between a tuple and a list is the tuples cannot be changed, but lists can be changed \n",
    "- tuples use parentheses, whereas lists use square brackets"
   ]
  },
  {
   "cell_type": "code",
   "execution_count": 31,
   "metadata": {},
   "outputs": [
    {
     "name": "stdout",
     "output_type": "stream",
     "text": [
      "(0, 1, 1, 2, 3, 5, 8, 13, 21, 34)\n"
     ]
    }
   ],
   "source": [
    "tuple1 = 0, 1, 1, 2 , 3, 5, 8, 13, 21, 34\n",
    "print(tuple1)"
   ]
  },
  {
   "cell_type": "code",
   "execution_count": 32,
   "metadata": {},
   "outputs": [
    {
     "name": "stdout",
     "output_type": "stream",
     "text": [
      "8\n"
     ]
    }
   ],
   "source": [
    "#you can grab a specific index in a tuple\n",
    "print(tuple1[6])"
   ]
  },
  {
   "cell_type": "code",
   "execution_count": 33,
   "metadata": {},
   "outputs": [
    {
     "ename": "TypeError",
     "evalue": "'tuple' object does not support item assignment",
     "output_type": "error",
     "traceback": [
      "\u001b[1;31m---------------------------------------------------------------------------\u001b[0m",
      "\u001b[1;31mTypeError\u001b[0m                                 Traceback (most recent call last)",
      "\u001b[1;32m<ipython-input-33-ef972795826f>\u001b[0m in \u001b[0;36m<module>\u001b[1;34m\u001b[0m\n\u001b[0;32m      1\u001b[0m \u001b[1;31m# tuples like strings are immutable, you cannot change item 11 in the tuple to 55 once it has been created\u001b[0m\u001b[1;33m\u001b[0m\u001b[1;33m\u001b[0m\u001b[1;33m\u001b[0m\u001b[0m\n\u001b[1;32m----> 2\u001b[1;33m \u001b[0mtuple1\u001b[0m\u001b[1;33m[\u001b[0m\u001b[1;36m10\u001b[0m\u001b[1;33m]\u001b[0m \u001b[1;33m=\u001b[0m \u001b[1;36m55\u001b[0m\u001b[1;33m\u001b[0m\u001b[1;33m\u001b[0m\u001b[0m\n\u001b[0m",
      "\u001b[1;31mTypeError\u001b[0m: 'tuple' object does not support item assignment"
     ]
    }
   ],
   "source": [
    "# tuples like strings are immutable, you cannot change item 11 in the tuple to 55 once it has been created\n",
    "tuple1[10] = 55"
   ]
  },
  {
   "cell_type": "markdown",
   "metadata": {},
   "source": [
    "## Dictionary"
   ]
  },
  {
   "cell_type": "markdown",
   "metadata": {},
   "source": [
    "- an unordered set of key: value pairs, with the requirement that the keys are unique (within one dictionary).\n",
    "- a pair of braces creates an empty dictionary\n",
    "- dictionaries are made up of key-value pairs.\n"
   ]
  },
  {
   "cell_type": "code",
   "execution_count": 119,
   "metadata": {},
   "outputs": [
    {
     "name": "stdout",
     "output_type": "stream",
     "text": [
      "{'Jack': 10, 'Jill': 20, 'John': 30, 'Jane': 40}\n"
     ]
    }
   ],
   "source": [
    "# create a dictionary\n",
    "s_dict = {'Jack':10, 'Jill':20, 'John':30, 'Jane': 40}\n",
    "print(s_dict)"
   ]
  },
  {
   "cell_type": "code",
   "execution_count": 121,
   "metadata": {},
   "outputs": [
    {
     "name": "stdout",
     "output_type": "stream",
     "text": [
      "{'Jack': 10, 'Jill': 20, 'Jane': 40}\n"
     ]
    }
   ],
   "source": [
    "# delete a value key pair from the dictionary\n",
    "del s_dict['John']\n",
    "print(s_dict)"
   ]
  },
  {
   "cell_type": "code",
   "execution_count": 43,
   "metadata": {},
   "outputs": [
    {
     "name": "stdout",
     "output_type": "stream",
     "text": [
      "40\n"
     ]
    }
   ],
   "source": [
    "# print the value stored in a key \n",
    "print(s_dict['Jane'])"
   ]
  },
  {
   "cell_type": "markdown",
   "metadata": {},
   "source": [
    "Let's apply some inbuilt functionalities on dictionaries"
   ]
  },
  {
   "cell_type": "code",
   "execution_count": 122,
   "metadata": {},
   "outputs": [
    {
     "data": {
      "text/plain": [
       "3"
      ]
     },
     "execution_count": 122,
     "metadata": {},
     "output_type": "execute_result"
    }
   ],
   "source": [
    "# get the total count of key value pairs\n",
    "len(s_dict)"
   ]
  },
  {
   "cell_type": "code",
   "execution_count": 38,
   "metadata": {},
   "outputs": [
    {
     "data": {
      "text/plain": [
       "dict_keys(['Jack', 'Jill', 'Jane'])"
      ]
     },
     "execution_count": 38,
     "metadata": {},
     "output_type": "execute_result"
    }
   ],
   "source": [
    "# get all the keys from the dictionary without the values\n",
    "s_dict.keys()"
   ]
  },
  {
   "cell_type": "code",
   "execution_count": 39,
   "metadata": {},
   "outputs": [
    {
     "data": {
      "text/plain": [
       "dict_values([10, 20, 40])"
      ]
     },
     "execution_count": 39,
     "metadata": {},
     "output_type": "execute_result"
    }
   ],
   "source": [
    "# get all the values from the dictionary without the keys\n",
    "s_dict.values()"
   ]
  },
  {
   "cell_type": "markdown",
   "metadata": {},
   "source": [
    "## Sets"
   ]
  },
  {
   "cell_type": "markdown",
   "metadata": {},
   "source": [
    "- collections of distinct(unique) objects\n",
    "- it is an unordered collection data type that is iterable, mutable and has no duplicate elements\n",
    "- major advantage of using a set instead of a list, is that it has highly optomized method for checking whether a specific element is contained in the set (based on a data strcuture known as a hash table)"
   ]
  },
  {
   "cell_type": "code",
   "execution_count": 45,
   "metadata": {},
   "outputs": [],
   "source": [
    "x_set = set('CAKE&COOKIE')\n",
    "y_set = set('COOKIE')"
   ]
  },
  {
   "cell_type": "code",
   "execution_count": 46,
   "metadata": {},
   "outputs": [
    {
     "name": "stdout",
     "output_type": "stream",
     "text": [
      "{'&', 'E', 'C', 'K', 'A', 'I', 'O'}\n"
     ]
    }
   ],
   "source": [
    "print(x_set)"
   ]
  },
  {
   "cell_type": "code",
   "execution_count": 47,
   "metadata": {},
   "outputs": [
    {
     "name": "stdout",
     "output_type": "stream",
     "text": [
      "{'E', 'C', 'K', 'I', 'O'}\n"
     ]
    }
   ],
   "source": [
    "print(y_set)"
   ]
  },
  {
   "cell_type": "code",
   "execution_count": 48,
   "metadata": {},
   "outputs": [
    {
     "name": "stdout",
     "output_type": "stream",
     "text": [
      "{'&', 'E', 'C', 'K', 'A', 'I', 'O'}\n"
     ]
    }
   ],
   "source": [
    "print(x_set|y_set) # Unique elements in x_set or y_set or both"
   ]
  },
  {
   "cell_type": "code",
   "execution_count": 49,
   "metadata": {},
   "outputs": [
    {
     "name": "stdout",
     "output_type": "stream",
     "text": [
      "{'E', 'C', 'K', 'I', 'O'}\n",
      "{'E', 'C', 'K', 'I', 'O'}\n"
     ]
    }
   ],
   "source": [
    "# there are usually multiple ways to accomplish the same task in python\n",
    "\n",
    "print(x_set & y_set) # Elements in both x_set and y_set\n",
    "print(x_set.intersection(y_set)) # Elements in both x_set and y_set"
   ]
  },
  {
   "cell_type": "code",
   "execution_count": 50,
   "metadata": {},
   "outputs": [
    {
     "name": "stdout",
     "output_type": "stream",
     "text": [
      "{'&', 'A'}\n",
      "set()\n"
     ]
    }
   ],
   "source": [
    "# get all the elements in x_set that arent in y_set and vice versa\n",
    "print(x_set.difference(y_set))\n",
    "print(y_set.difference(x_set))"
   ]
  },
  {
   "cell_type": "code",
   "execution_count": 51,
   "metadata": {},
   "outputs": [
    {
     "name": "stdout",
     "output_type": "stream",
     "text": [
      "{'&', 'M', 'E', 'C', 'K', 'A', 'I', 'O'}\n"
     ]
    }
   ],
   "source": [
    "# you can also add to a set\n",
    "x_set.add('M')\n",
    "print(x_set)"
   ]
  },
  {
   "cell_type": "code",
   "execution_count": 52,
   "metadata": {},
   "outputs": [
    {
     "name": "stdout",
     "output_type": "stream",
     "text": [
      "set()\n"
     ]
    }
   ],
   "source": [
    "# you can also empty the whole set\n",
    "x_set.clear()\n",
    "print(x_set)"
   ]
  },
  {
   "cell_type": "markdown",
   "metadata": {},
   "source": [
    "## Files"
   ]
  },
  {
   "cell_type": "markdown",
   "metadata": {},
   "source": [
    "- part of data structures\n",
    "- type of big data commonplace in data science\n",
    "- making use of data sitting in files across databases."
   ]
  },
  {
   "cell_type": "markdown",
   "metadata": {},
   "source": [
    "#### Some Python functions for working with files"
   ]
  },
  {
   "cell_type": "markdown",
   "metadata": {},
   "source": [
    "read() - reads entire files"
   ]
  },
  {
   "cell_type": "markdown",
   "metadata": {},
   "source": [
    "readline() -  to read one line at a time"
   ]
  },
  {
   "cell_type": "markdown",
   "metadata": {},
   "source": [
    "write() - write to a string file"
   ]
  },
  {
   "cell_type": "markdown",
   "metadata": {},
   "source": [
    "close() - close a file"
   ]
  },
  {
   "cell_type": "code",
   "execution_count": 123,
   "metadata": {},
   "outputs": [
    {
     "name": "stdout",
     "output_type": "stream",
     "text": [
      "This is the file.\n",
      "Read it in line by line.\n",
      "And see what each line says.\n"
     ]
    }
   ],
   "source": [
    "# File modes (2nd argument) : 'r'(read), 'w'(write), 'a'(appending), 'r+'(both reading and writing)\n",
    "f = open('file_name.txt','r+')\n",
    "\n",
    "# Reads one line at a time\n",
    "lines = f.readlines()\n",
    "\n",
    "for line in lines:\n",
    "    print(line.rstrip('\\n'))\n",
    "f.close()"
   ]
  },
  {
   "cell_type": "code",
   "execution_count": 124,
   "metadata": {},
   "outputs": [
    {
     "data": {
      "text/plain": [
       "'This is the file.\\nRead it in line by line.\\nAnd see what each line says.'"
      ]
     },
     "execution_count": 124,
     "metadata": {},
     "output_type": "execute_result"
    }
   ],
   "source": [
    "# Reads the entire file\n",
    "# File modes (2nd argument) : 'r'(read), 'w'(write), 'a'(appending), 'r+'(both reading and writing)\n",
    "f = open('file_name.txt','r+')\n",
    "f.read()\n"
   ]
  },
  {
   "cell_type": "code",
   "execution_count": 125,
   "metadata": {},
   "outputs": [],
   "source": [
    "f.close()"
   ]
  },
  {
   "cell_type": "code",
   "execution_count": 129,
   "metadata": {},
   "outputs": [],
   "source": [
    "# go check the file in the folder in jupyter, and you will see the new line appended\n",
    "with open('file_name.txt', 'a') as f:\n",
    "    f.write(\"\\nThis is the last line in the file!\")"
   ]
  },
  {
   "cell_type": "markdown",
   "metadata": {},
   "source": [
    "## Arrays"
   ]
  },
  {
   "cell_type": "markdown",
   "metadata": {},
   "source": [
    "- arrays and lists are both used in Python to store data, but they don't serve exactly the same purposes\n",
    "- Both can be used to store any data type (real numbers, strings, etc.) and they both can be indexed and iterated through\n",
    "- main difference is the functions that you can perform to them, and that all elements of the array must be of the same numeric type\n",
    "- Python doesn't specifically have an array data-type built in (uses lists) so have to use a different library"
   ]
  },
  {
   "cell_type": "code",
   "execution_count": 130,
   "metadata": {},
   "outputs": [],
   "source": [
    "#first we must import the numpy module to make working with arrays easier\n",
    "import numpy as np\n",
    "x = np.array([21,7,6,5])"
   ]
  },
  {
   "cell_type": "code",
   "execution_count": 58,
   "metadata": {},
   "outputs": [
    {
     "name": "stdout",
     "output_type": "stream",
     "text": [
      "[21  7  6  5]\n"
     ]
    }
   ],
   "source": [
    "print(x)"
   ]
  },
  {
   "cell_type": "code",
   "execution_count": 59,
   "metadata": {},
   "outputs": [
    {
     "name": "stdout",
     "output_type": "stream",
     "text": [
      "[21  7  6  5 41]\n"
     ]
    }
   ],
   "source": [
    "# you can append to an array\n",
    "x = np.append(x, 41)\n",
    "print(x)"
   ]
  },
  {
   "cell_type": "code",
   "execution_count": 60,
   "metadata": {},
   "outputs": [
    {
     "name": "stdout",
     "output_type": "stream",
     "text": [
      "[ 7  6  5 41]\n"
     ]
    }
   ],
   "source": [
    "# you can remove elements from an array based on position of the element\n",
    "x = np.delete(x,0)\n",
    "print(x)"
   ]
  },
  {
   "cell_type": "code",
   "execution_count": 61,
   "metadata": {},
   "outputs": [
    {
     "name": "stdout",
     "output_type": "stream",
     "text": [
      "[ 5  6  7 41]\n"
     ]
    }
   ],
   "source": [
    "# you can sort an array, sorts by ascending by default\n",
    "x = np.sort(x)\n",
    "print(x)"
   ]
  },
  {
   "cell_type": "code",
   "execution_count": 62,
   "metadata": {},
   "outputs": [
    {
     "name": "stdout",
     "output_type": "stream",
     "text": [
      "[[1 2 3 4]\n",
      " [5 6 7 8]]\n"
     ]
    }
   ],
   "source": [
    "# you can make an array more than one dimension lets make a 2 by 4\n",
    "y = np.array([[1,2,3,4], [5,6,7,8]])\n",
    "print(y)"
   ]
  },
  {
   "cell_type": "code",
   "execution_count": 63,
   "metadata": {},
   "outputs": [
    {
     "name": "stdout",
     "output_type": "stream",
     "text": [
      "[[ 6  8 10 45]\n",
      " [10 12 14 49]]\n",
      "\n",
      "[[ 4  4  4 37]\n",
      " [ 0  0  0 33]]\n",
      "\n",
      "[[ 5.          3.          2.33333333 10.25      ]\n",
      " [ 1.          1.          1.          5.125     ]]\n"
     ]
    }
   ],
   "source": [
    "# you can perform arthmitic on arrays if # of columns match up in both\n",
    "print(x+y)\n",
    "print('')\n",
    "print(x-y)\n",
    "print('')\n",
    "print(x/y)"
   ]
  },
  {
   "cell_type": "markdown",
   "metadata": {},
   "source": [
    "## Lists"
   ]
  },
  {
   "cell_type": "markdown",
   "metadata": {},
   "source": [
    "- most versatile datatype availabe in Python which can be writte as a list of comma-seperated values (items) between square brackets\n",
    "- Important thing about a list is that items in a list need NOT be of the same type"
   ]
  },
  {
   "cell_type": "code",
   "execution_count": 64,
   "metadata": {},
   "outputs": [
    {
     "name": "stdout",
     "output_type": "stream",
     "text": [
      "list1[0]: physics\n",
      "list2[1:5]: [1, 3, 5, 4]\n"
     ]
    }
   ],
   "source": [
    "# you can slice and index lists\n",
    "list1 = ['physics', 'chemistry', 1997, 2000]\n",
    "list2 = [2,1,3,5,4,7,6]\n",
    "\n",
    "print(\"list1[0]:\", list1[0])\n",
    "print(\"list2[1:5]:\", list2[1:5])"
   ]
  },
  {
   "cell_type": "code",
   "execution_count": 65,
   "metadata": {},
   "outputs": [
    {
     "name": "stdout",
     "output_type": "stream",
     "text": [
      "['physics', 'chemistry', 2001, 2000]\n"
     ]
    }
   ],
   "source": [
    "# you can change items in a list by their index\n",
    "list1[2] = 2001\n",
    "print(list1)"
   ]
  },
  {
   "cell_type": "code",
   "execution_count": 66,
   "metadata": {},
   "outputs": [
    {
     "name": "stdout",
     "output_type": "stream",
     "text": [
      "['physics', 'chemistry', 2000]\n"
     ]
    }
   ],
   "source": [
    "# you can delete list items\n",
    "del list1[2]\n",
    "print(list1)"
   ]
  },
  {
   "cell_type": "code",
   "execution_count": 67,
   "metadata": {},
   "outputs": [
    {
     "data": {
      "text/plain": [
       "7"
      ]
     },
     "execution_count": 67,
     "metadata": {},
     "output_type": "execute_result"
    }
   ],
   "source": [
    "# you can take the length of a list, and it tells you how many items are in it\n",
    "len(list2)"
   ]
  },
  {
   "cell_type": "code",
   "execution_count": 68,
   "metadata": {},
   "outputs": [
    {
     "name": "stdout",
     "output_type": "stream",
     "text": [
      "['physics', 'chemistry', 2000, 2, 1, 3, 5, 4, 7, 6]\n"
     ]
    }
   ],
   "source": [
    "# you can concatanate lists or add them together\n",
    "list3 = list1 + list2\n",
    "print(list3)"
   ]
  },
  {
   "cell_type": "code",
   "execution_count": 69,
   "metadata": {},
   "outputs": [
    {
     "name": "stdout",
     "output_type": "stream",
     "text": [
      "['physics', 'chemistry', 2000, 2, 1, 3, 5, 4, 7, 6, 'Daniel']\n"
     ]
    }
   ],
   "source": [
    "# you can append items to a list\n",
    "list3.append('Daniel')\n",
    "print(list3)"
   ]
  },
  {
   "cell_type": "code",
   "execution_count": 70,
   "metadata": {},
   "outputs": [
    {
     "name": "stdout",
     "output_type": "stream",
     "text": [
      "[1, 2, 3, 4, 5, 6, 7]\n"
     ]
    }
   ],
   "source": [
    "# you can sort a list if it is all integers \n",
    "list2.sort()\n",
    "print(list2)"
   ]
  },
  {
   "cell_type": "code",
   "execution_count": 71,
   "metadata": {},
   "outputs": [
    {
     "name": "stdout",
     "output_type": "stream",
     "text": [
      "['Amber', 'Candie', 'Gaby', 'Ronald']\n"
     ]
    }
   ],
   "source": [
    "# you can sort a list if it is all strings\n",
    "list4 = ['Gaby', 'Amber', 'Candie', 'Ronald']\n",
    "list4.sort()\n",
    "print(list4)"
   ]
  },
  {
   "cell_type": "code",
   "execution_count": 72,
   "metadata": {},
   "outputs": [
    {
     "name": "stdout",
     "output_type": "stream",
     "text": [
      "True\n",
      "False\n"
     ]
    }
   ],
   "source": [
    "# you can check for membership (if an item is in the list)\n",
    "print(3 in list2)\n",
    "print(20 in list2)"
   ]
  },
  {
   "cell_type": "markdown",
   "metadata": {},
   "source": [
    "# 3. For Loops and If Statements"
   ]
  },
  {
   "cell_type": "markdown",
   "metadata": {},
   "source": [
    "## If Statements"
   ]
  },
  {
   "cell_type": "markdown",
   "metadata": {},
   "source": [
    "Python supports the usual logical conditions from mathematics:\n",
    "\n",
    "* Equals: a == b\n",
    "* Not Equals: a != b\n",
    "* Less than: a < b\n",
    "* Less than or equal to: a <= b\n",
    "* Greater than: a > b\n",
    "* Greater than or equal to: a >= b"
   ]
  },
  {
   "cell_type": "markdown",
   "metadata": {},
   "source": [
    "* Python relies on indentation (whitespace at the beginnin of a line or tab) to define scope in the code. It will automatically indent, but you may need to continue the indentation to make sure an error is not thrown\n",
    "* elif can be used as a keyword in an if statement as pythons way of saying \"if the previous condition were not true, then try this condition\"\n",
    "* the else keyword catches anything which isn't caught by the preceding conditions"
   ]
  },
  {
   "cell_type": "markdown",
   "metadata": {},
   "source": [
    "Syntax for if statements is as follows:\n",
    "\n",
    "if (expression):\n",
    "\n",
    "    Statement   \n",
    "else:\n",
    "\n",
    "    Statement"
   ]
  },
  {
   "cell_type": "code",
   "execution_count": 131,
   "metadata": {},
   "outputs": [
    {
     "name": "stdout",
     "output_type": "stream",
     "text": [
      "y is less than x\n"
     ]
    }
   ],
   "source": [
    "# try changing up x and y to see the different outputs\n",
    "x=10\n",
    "y=8\n",
    "\n",
    "if (x<y):\n",
    "    st = 'x is less than y'\n",
    "else:\n",
    "    st = 'y is less than x'\n",
    "\n",
    "print(st)\n",
    "    \n"
   ]
  },
  {
   "cell_type": "code",
   "execution_count": 132,
   "metadata": {},
   "outputs": [
    {
     "name": "stdout",
     "output_type": "stream",
     "text": [
      "x and y are the same\n"
     ]
    }
   ],
   "source": [
    "# you can also use an elif statement, we didnt think that they \n",
    "# could be the same in the above problem, but it is a possible condition, so we add that in\n",
    "x=8\n",
    "y=8\n",
    "\n",
    "if (x<y):\n",
    "    st = 'x is less than y'\n",
    "elif (x==y):\n",
    "    st = 'x and y are the same'\n",
    "else:\n",
    "    st = 'y is less than x'\n",
    "    \n",
    "print(st)"
   ]
  },
  {
   "cell_type": "code",
   "execution_count": 75,
   "metadata": {
    "scrolled": true
   },
   "outputs": [
    {
     "name": "stdout",
     "output_type": "stream",
     "text": [
      "X is greater than Y and Z is equal to W\n"
     ]
    }
   ],
   "source": [
    "# the 'and' keyword is a logical operator and can be used to combine conditional statements\n",
    "x = 17\n",
    "y = 14\n",
    "z = 5\n",
    "w = 5\n",
    "\n",
    "if (x>y) and (z==w):\n",
    "    print('X is greater than Y and Z is equal to W')\n",
    "else:\n",
    "    print(\"Oh no try to input different numbers!\")"
   ]
  },
  {
   "cell_type": "code",
   "execution_count": 76,
   "metadata": {},
   "outputs": [
    {
     "name": "stdout",
     "output_type": "stream",
     "text": [
      "One of your statements is correct!\n"
     ]
    }
   ],
   "source": [
    "# the 'or' keyword is a logical operator used to cbomined conditional statements\n",
    "\n",
    "if (x<y) or (z==w):\n",
    "    print(\"One of your statements is correct!\")\n",
    "else:\n",
    "    print(\"Both your statements are incorrect!\")"
   ]
  },
  {
   "cell_type": "code",
   "execution_count": 134,
   "metadata": {},
   "outputs": [
    {
     "name": "stdout",
     "output_type": "stream",
     "text": [
      "Above 10,\n",
      "but not above 20\n"
     ]
    }
   ],
   "source": [
    "# you can have a nested if, try changing the x variable starting number to see the output change\n",
    "x = 15\n",
    "\n",
    "if x > 10:\n",
    "    print(\"Above 10,\")\n",
    "    if x > 20:\n",
    "        print(\"and also above 20!\")\n",
    "    else:\n",
    "        print(\"but not above 20\")"
   ]
  },
  {
   "cell_type": "code",
   "execution_count": 78,
   "metadata": {},
   "outputs": [
    {
     "name": "stdout",
     "output_type": "stream",
     "text": [
      "[22]\n"
     ]
    }
   ],
   "source": [
    "# you can append to a list with an if statement\n",
    "\n",
    "x = 22\n",
    "listTest = []\n",
    "\n",
    "if x > 10:\n",
    "    listTest.append(x)\n",
    "    print(listTest)\n",
    "else:\n",
    "    print(\"Sorry, not above 10\")"
   ]
  },
  {
   "cell_type": "markdown",
   "metadata": {},
   "source": [
    "## For Loops"
   ]
  },
  {
   "cell_type": "markdown",
   "metadata": {},
   "source": [
    "A foor loop is used for iterating over a sequence (that is either a list, a tuple, a dictionary, a set, or a string). \n",
    "\n",
    "- This is less like the for keyword in other programing languages, and works more like an iterator method as found in other object-oriented programming languages\n",
    "- with the for loop we can execute a set of statements, once for each item in a list, tuple, set, etc."
   ]
  },
  {
   "cell_type": "code",
   "execution_count": 79,
   "metadata": {},
   "outputs": [
    {
     "name": "stdout",
     "output_type": "stream",
     "text": [
      "apple\n",
      "banana\n",
      "cheery\n"
     ]
    }
   ],
   "source": [
    "# looping through a list\n",
    "fruits = ['apple', 'banana', 'cheery']\n",
    "\n",
    "for x in fruits:\n",
    "    print(x)"
   ]
  },
  {
   "cell_type": "code",
   "execution_count": 80,
   "metadata": {},
   "outputs": [
    {
     "name": "stdout",
     "output_type": "stream",
     "text": [
      "b\n",
      "a\n",
      "n\n",
      "a\n",
      "n\n",
      "a\n"
     ]
    }
   ],
   "source": [
    "# looping through a string\n",
    "for x in \"banana\":\n",
    "    print(x)"
   ]
  },
  {
   "cell_type": "markdown",
   "metadata": {},
   "source": [
    "With the break statement we can stop the loop before it has looped through all the items:\n",
    "    "
   ]
  },
  {
   "cell_type": "code",
   "execution_count": 81,
   "metadata": {},
   "outputs": [
    {
     "name": "stdout",
     "output_type": "stream",
     "text": [
      "apple\n",
      "banana\n"
     ]
    }
   ],
   "source": [
    "#  Exit the loop when x is \"banana\":\n",
    "\n",
    "fruits = [\"apple\", \"banana\", \"cherry\"]\n",
    "\n",
    "for x in fruits:\n",
    "    print(x)\n",
    "    if x == \"banana\":\n",
    "        break"
   ]
  },
  {
   "cell_type": "code",
   "execution_count": 82,
   "metadata": {},
   "outputs": [
    {
     "name": "stdout",
     "output_type": "stream",
     "text": [
      "apple\n"
     ]
    }
   ],
   "source": [
    "# Exit the loop when x is \"banana\", but this time the break comes before the print:\n",
    "\n",
    "fruits = [\"apple\", \"banana\", \"cherry\"]\n",
    "\n",
    "for x in fruits:\n",
    "    if x == \"banana\":\n",
    "        break\n",
    "    print(x)"
   ]
  },
  {
   "cell_type": "markdown",
   "metadata": {},
   "source": [
    "The range() function is used to loop through a set of code a specified number of times\n",
    "- The range() function returns a sequence of numbers, starting from 0 by default, and increments by 1 (by default), and ends at a specified number"
   ]
  },
  {
   "cell_type": "code",
   "execution_count": 83,
   "metadata": {},
   "outputs": [
    {
     "name": "stdout",
     "output_type": "stream",
     "text": [
      "0\n",
      "1\n",
      "2\n",
      "3\n",
      "4\n",
      "5\n"
     ]
    }
   ],
   "source": [
    "for x in range(6):\n",
    "    print(x)"
   ]
  },
  {
   "cell_type": "code",
   "execution_count": 84,
   "metadata": {},
   "outputs": [
    {
     "name": "stdout",
     "output_type": "stream",
     "text": [
      "2\n",
      "3\n",
      "4\n",
      "5\n"
     ]
    }
   ],
   "source": [
    "# use the start parameter\n",
    "for x in range(2,6):\n",
    "    print(x)"
   ]
  },
  {
   "cell_type": "code",
   "execution_count": 85,
   "metadata": {},
   "outputs": [
    {
     "name": "stdout",
     "output_type": "stream",
     "text": [
      "2\n",
      "5\n",
      "8\n",
      "11\n",
      "14\n",
      "17\n",
      "20\n",
      "23\n",
      "26\n",
      "29\n"
     ]
    }
   ],
   "source": [
    "# use the start and end paramter, and increment the sequence with 3 (default is 1)\n",
    "for x in range(2,30,3):\n",
    "    print(x)"
   ]
  },
  {
   "cell_type": "markdown",
   "metadata": {},
   "source": [
    "Else in For Loop\n",
    "- The else keyword in a for loop specified a block of code to be executed when the loop is finsihed"
   ]
  },
  {
   "cell_type": "code",
   "execution_count": 86,
   "metadata": {},
   "outputs": [
    {
     "name": "stdout",
     "output_type": "stream",
     "text": [
      "0\n",
      "1\n",
      "2\n",
      "3\n",
      "4\n",
      "5\n",
      "Finally finished!\n"
     ]
    }
   ],
   "source": [
    "for x in range(6):\n",
    "    print(x)\n",
    "else:\n",
    "    print(\"Finally finished!\")"
   ]
  },
  {
   "cell_type": "code",
   "execution_count": 87,
   "metadata": {},
   "outputs": [
    {
     "name": "stdout",
     "output_type": "stream",
     "text": [
      "[0]\n",
      "[0, 1]\n",
      "[0, 1, 2]\n",
      "[0, 1, 2, 3]\n",
      "[0, 1, 2, 3, 4]\n",
      "[0, 1, 2, 3, 4, 5]\n",
      "[0, 1, 2, 3, 4, 5, 6]\n",
      "[0, 1, 2, 3, 4, 5, 6, 7]\n",
      "[0, 1, 2, 3, 4, 5, 6, 7, 8]\n",
      "[0, 1, 2, 3, 4, 5, 6, 7, 8, 9]\n",
      "[0, 1, 2, 3, 4, 5, 6, 7, 8, 9, 10]\n",
      "[0, 1, 2, 3, 4, 5, 6, 7, 8, 9, 10, 11]\n"
     ]
    }
   ],
   "source": [
    "# you can append to a list with a for loop\n",
    "listTest = []\n",
    "for x in range(0,12):\n",
    "    listTest.append(x)\n",
    "    print(listTest)"
   ]
  },
  {
   "cell_type": "markdown",
   "metadata": {},
   "source": [
    "Nested Loops\n",
    "- A nested loop is a loop inside a loop\n",
    "- The \"inner loop\" will be executed one time for each iteration of the \"outer loop\""
   ]
  },
  {
   "cell_type": "code",
   "execution_count": 88,
   "metadata": {},
   "outputs": [
    {
     "name": "stdout",
     "output_type": "stream",
     "text": [
      "red apple\n",
      "red banana\n",
      "red cherry\n",
      "big apple\n",
      "big banana\n",
      "big cherry\n",
      "tasty apple\n",
      "tasty banana\n",
      "tasty cherry\n"
     ]
    }
   ],
   "source": [
    "# print each adjective for every fruit\n",
    "adj = [\"red\", \"big\", \"tasty\"]\n",
    "fruits = [\"apple\", \"banana\", \"cherry\"]\n",
    "\n",
    "for x in adj:\n",
    "    for y in fruits:\n",
    "        print(x, y)"
   ]
  },
  {
   "cell_type": "markdown",
   "metadata": {},
   "source": [
    "## While Loops"
   ]
  },
  {
   "cell_type": "markdown",
   "metadata": {},
   "source": [
    "With the while loop we can execute a set of statement as long as a condition is true.\n",
    "\n",
    "- the while loop requires relevant variables to be ready, in this example we need to define an indexing variable i, which we set to 1\n",
    "- we also have to manually increment in this instance with the += operation"
   ]
  },
  {
   "cell_type": "code",
   "execution_count": 89,
   "metadata": {},
   "outputs": [
    {
     "name": "stdout",
     "output_type": "stream",
     "text": [
      "1\n",
      "3\n",
      "5\n"
     ]
    }
   ],
   "source": [
    "i = 1\n",
    "while i < 6:\n",
    "    print(i)\n",
    "    i += 2"
   ]
  },
  {
   "cell_type": "markdown",
   "metadata": {},
   "source": [
    "With the continue statement we can stop the current iteration, and continue with the next\n",
    "\n",
    "- NOTE: this is different from break as break stops the whole process, in this instance it just skips outputting the print statement for 3, but continues with the rest of the numbers"
   ]
  },
  {
   "cell_type": "code",
   "execution_count": 90,
   "metadata": {},
   "outputs": [
    {
     "name": "stdout",
     "output_type": "stream",
     "text": [
      "1\n",
      "2\n",
      "4\n",
      "5\n",
      "6\n"
     ]
    }
   ],
   "source": [
    "i = 0\n",
    "while i < 6:\n",
    "    i += 1\n",
    "    if i == 3:\n",
    "        continue\n",
    "    print(i)"
   ]
  },
  {
   "cell_type": "markdown",
   "metadata": {},
   "source": [
    "With the else statement we can run a block of code once when the condition is no loner true"
   ]
  },
  {
   "cell_type": "code",
   "execution_count": 91,
   "metadata": {},
   "outputs": [
    {
     "name": "stdout",
     "output_type": "stream",
     "text": [
      "1\n",
      "2\n",
      "3\n",
      "4\n",
      "5\n",
      "i is no longer less than 6\n"
     ]
    }
   ],
   "source": [
    "i = 1\n",
    "while i < 6:\n",
    "    print(i)\n",
    "    i += 1\n",
    "else:\n",
    "    print(\"i is no longer less than 6\")"
   ]
  },
  {
   "cell_type": "markdown",
   "metadata": {},
   "source": [
    "# User-Defined Functions in Python"
   ]
  },
  {
   "cell_type": "markdown",
   "metadata": {},
   "source": [
    "- Functions are common in all programming languages and it can be defined as a block of re-usuable code to perform specific tasks.\n",
    "- They only need to be written once and can be used multiple times.\n",
    "- These functions are very useful, from writing common utilities to specific business logic.\n",
    "- The code is usually well organized, easy to maintain, and developer-friendly.\n",
    "- First you create a function, and then you call the function to use it."
   ]
  },
  {
   "cell_type": "markdown",
   "metadata": {},
   "source": [
    "## Function Definition"
   ]
  },
  {
   "cell_type": "code",
   "execution_count": 92,
   "metadata": {},
   "outputs": [],
   "source": [
    "#Syntax of a function\n",
    "\n",
    "def function_name(parameters):\n",
    "    \"\"\"docstring\"\"\"\n",
    "    statement(s)\n",
    "    return()"
   ]
  },
  {
   "cell_type": "markdown",
   "metadata": {},
   "source": [
    "The function definition consists of the following components:\n",
    "1. Keyword 'def' marks the start of a function header\n",
    "2. A function name to uniquely identify it. Function naming follows the same rules of writing identifiers in Python.\n",
    "3. Parameters (arguments) through which we pass values to a function.  They are optional.\n",
    "4. A colon (:) to mark the end of a function header\n",
    "5. Optional documentation string  (docstring) to describe what the function does\n",
    "6. One or more valid python statements that make up the function body. Statements must have the same indentation level\n",
    "7. An Optional return statement to return a value from the function"
   ]
  },
  {
   "cell_type": "markdown",
   "metadata": {},
   "source": [
    "## Function Arguments"
   ]
  },
  {
   "cell_type": "markdown",
   "metadata": {},
   "source": [
    "In python, user-defined function can take four different types of arguements. The argument types and their meaning, however, are pre defined and can't be changed.\n",
    "\n",
    "1. Default Arguments:\n",
    "    - Python has a different way of representing syntax and default values for function arguments. Default values indicate that the function argument will take that value if no argument value is passed during the function call. \n",
    "    - The default value is assigned by using the = operator. Below is typical syntax for a default argument. Here, 'msg' paramter has a default value \"Hello!\""
   ]
  },
  {
   "cell_type": "raw",
   "metadata": {},
   "source": [
    "# function definition\n",
    "def defaultArg(name, msg='Hello'):\n",
    "\n",
    "# function call\n",
    "defaultArg(name)"
   ]
  },
  {
   "cell_type": "markdown",
   "metadata": {},
   "source": [
    "2. Required Arguments\n",
    "    - Required arguments are the mandatory arguments of a fuction. These argument values must be passed in correct number and order during fuction call.\n",
    "    - Below is a typical syntax for a required argument function.\n",
    "   "
   ]
  },
  {
   "cell_type": "raw",
   "metadata": {},
   "source": [
    "# function defintiion\n",
    "def requiredArg(str,num):\n",
    "    \n",
    "# function call\n",
    "requiredArg(\"Hello\", 12)"
   ]
  },
  {
   "cell_type": "markdown",
   "metadata": {},
   "source": [
    "3. Keyword Arguments\n",
    "    - Keyword arguments are relevant for Python function calls.\n",
    "    - The keywords are mentioned during the function call along with their corresponding values.\n",
    "    - These keywords are mapped with the function arguments so the function can easily identify the corresponding values even if the order is not maintained during the function call."
   ]
  },
  {
   "cell_type": "raw",
   "metadata": {},
   "source": [
    "# function definition\n",
    "def keywordArg(name, role):\n",
    "    \n",
    "# function call\n",
    "keywordArg(role='Manager', name='Tom')"
   ]
  },
  {
   "cell_type": "markdown",
   "metadata": {},
   "source": [
    "## Example of a function"
   ]
  },
  {
   "cell_type": "code",
   "execution_count": 135,
   "metadata": {},
   "outputs": [],
   "source": [
    "# function definintion\n",
    "def greet(name=\"Bill\"):\n",
    "    \"\"\"This function greets to the person passed in as paramter\"\"\"\n",
    "    print(\"Hello, \" + name + \". Good Morning!\")"
   ]
  },
  {
   "cell_type": "code",
   "execution_count": 137,
   "metadata": {},
   "outputs": [
    {
     "name": "stdout",
     "output_type": "stream",
     "text": [
      "Hello, Bill. Good Morning!\n"
     ]
    }
   ],
   "source": [
    "# function call\n",
    "greet()"
   ]
  },
  {
   "cell_type": "markdown",
   "metadata": {},
   "source": [
    "## Example of a Default Function"
   ]
  },
  {
   "cell_type": "code",
   "execution_count": 95,
   "metadata": {},
   "outputs": [
    {
     "name": "stdout",
     "output_type": "stream",
     "text": [
      "Emp Name:  Nick\n",
      "Emp Role:  Manager\n",
      "*****************\n",
      "Emp Name:  Tom\n",
      "Emp Role:  CEO\n"
     ]
    }
   ],
   "source": [
    "def defArgFunc(empname, emprole = \"Manager\" ):  \n",
    "    \"\"\"this function takes in two parameters, with the emprole\n",
    "    given a default and print out the name and the role\"\"\"\n",
    "    print(\"Emp Name: \", empname)\n",
    "    print(\"Emp Role: \", emprole)\n",
    "    return;\n",
    "\n",
    "# Deafult function call\n",
    "defArgFunc(empname=\"Nick\")\n",
    "\n",
    "print('*****************')\n",
    "\n",
    "#Overriding the default function call\n",
    "defArgFunc(empname=\"Tom\",emprole = \"CEO\")"
   ]
  },
  {
   "cell_type": "markdown",
   "metadata": {},
   "source": [
    "## Example of Required Argument Function"
   ]
  },
  {
   "cell_type": "code",
   "execution_count": 96,
   "metadata": {},
   "outputs": [
    {
     "ename": "TypeError",
     "evalue": "reqArgFunc() missing 1 required positional argument: 'empname'",
     "output_type": "error",
     "traceback": [
      "\u001b[1;31m---------------------------------------------------------------------------\u001b[0m",
      "\u001b[1;31mTypeError\u001b[0m                                 Traceback (most recent call last)",
      "\u001b[1;32m<ipython-input-96-6d8ee221f4d2>\u001b[0m in \u001b[0;36m<module>\u001b[1;34m\u001b[0m\n\u001b[0;32m      4\u001b[0m \u001b[1;33m\u001b[0m\u001b[0m\n\u001b[0;32m      5\u001b[0m \u001b[1;31m# not passing required arg\u001b[0m\u001b[1;33m\u001b[0m\u001b[1;33m\u001b[0m\u001b[1;33m\u001b[0m\u001b[0m\n\u001b[1;32m----> 6\u001b[1;33m \u001b[0mreqArgFunc\u001b[0m\u001b[1;33m(\u001b[0m\u001b[1;33m)\u001b[0m\u001b[1;33m\u001b[0m\u001b[1;33m\u001b[0m\u001b[0m\n\u001b[0m",
      "\u001b[1;31mTypeError\u001b[0m: reqArgFunc() missing 1 required positional argument: 'empname'"
     ]
    }
   ],
   "source": [
    "def reqArgFunc(empname):   \n",
    "    print (\"Emp Name: \", empname)\n",
    "    return   \n",
    "\n",
    "# not passing required arg\n",
    "reqArgFunc()"
   ]
  },
  {
   "cell_type": "code",
   "execution_count": 97,
   "metadata": {},
   "outputs": [
    {
     "name": "stdout",
     "output_type": "stream",
     "text": [
      "Emp Name:  David\n"
     ]
    }
   ],
   "source": [
    "# Passing required arg\n",
    "reqArgFunc(\"David\")"
   ]
  },
  {
   "cell_type": "code",
   "execution_count": 98,
   "metadata": {},
   "outputs": [
    {
     "name": "stdout",
     "output_type": "stream",
     "text": [
      "Emp Name:  Nick\n",
      "Emp Role:  Manager\n",
      "**************\n",
      "Emp Name:  Nick\n",
      "Emp Role:  Manager\n"
     ]
    }
   ],
   "source": [
    "def keyArgFunc(empname, emprole):   \n",
    "    print (\"Emp Name: \", empname)\n",
    "    print (\"Emp Role: \", emprole)\n",
    "    return  \n",
    "\n",
    "\n",
    "# calling in the correct sequence\n",
    "keyArgFunc(empname = \"Nick\",emprole = \"Manager\" )\n",
    "\n",
    "print(\"**************\")\n",
    "\n",
    "# calling in a sequence out of order\n",
    "keyArgFunc(emprole = \"Manager\",empname = \"Nick\")"
   ]
  },
  {
   "cell_type": "markdown",
   "metadata": {},
   "source": [
    "## Example of For and If statement in Function"
   ]
  },
  {
   "cell_type": "code",
   "execution_count": 99,
   "metadata": {},
   "outputs": [
    {
     "name": "stdout",
     "output_type": "stream",
     "text": [
      "Your list length is equal to 5!\n",
      "**************\n",
      "6\n",
      "7\n",
      "8\n",
      "9\n",
      "10\n",
      "11\n",
      "12\n",
      "13\n",
      "**************\n",
      "1\n",
      "2\n",
      "3\n",
      "4\n",
      "5\n"
     ]
    }
   ],
   "source": [
    "# creating the function\n",
    "def forAndIfStatement(lista, listb):\n",
    "    if len(lista) > 5:\n",
    "        for x in lista:\n",
    "            print(x)\n",
    "    elif len(lista) < 5:\n",
    "        for y in listb:\n",
    "            print(y)\n",
    "    else:\n",
    "        print(\"Your list length is equal to 5!\")\n",
    "        \n",
    "# setting out variables        \n",
    "listTesta = [1,2,3,4,5]\n",
    "listTestb = [6,7,8,9,10,11,12,13]\n",
    "listTestc = [1,2,3,6]\n",
    "\n",
    "# call the function\n",
    "forAndIfStatement(listTesta, listTestb)\n",
    "\n",
    "print(\"**************\")\n",
    "\n",
    "# call the funtion\n",
    "forAndIfStatement(listTestb, listTestc)\n",
    "\n",
    "print(\"**************\")\n",
    "\n",
    "# call the function\n",
    "forAndIfStatement(listTestc, listTesta)\n",
    "\n"
   ]
  },
  {
   "cell_type": "markdown",
   "metadata": {},
   "source": [
    "# Your Turn to Practice!"
   ]
  },
  {
   "cell_type": "markdown",
   "metadata": {},
   "source": [
    "Try your hand at these challenges problems. Send your solutions to Becky - bcrawford@sensecorp.com\n",
    "\n",
    "Feel free to reach out to her with questions if you get stuck!"
   ]
  },
  {
   "cell_type": "markdown",
   "metadata": {},
   "source": [
    "1.  Write a python function to sum all the numbers in a list, and print out the sum.\n",
    "\n",
    "    * Do not use the sum() function"
   ]
  },
  {
   "cell_type": "code",
   "execution_count": null,
   "metadata": {},
   "outputs": [],
   "source": [
    "\n",
    "\n",
    "\n",
    "\n",
    "\n",
    "\n",
    "\n",
    "\n",
    "\n",
    "\n",
    "\n"
   ]
  },
  {
   "cell_type": "markdown",
   "metadata": {},
   "source": [
    "2. Write a python function to return the square or the cube of a number. This function should have 2 arguments: a number and power"
   ]
  },
  {
   "cell_type": "code",
   "execution_count": null,
   "metadata": {},
   "outputs": [],
   "source": [
    "\n",
    "\n",
    "\n",
    "\n",
    "\n",
    "\n",
    "\n"
   ]
  },
  {
   "cell_type": "markdown",
   "metadata": {},
   "source": [
    "3. Write a function that changes degrees from F to C, and prints out the numeric result\n",
    "\n",
    "    * the input should be the degrees in F so a float or int\n",
    "    * the output should be the degrees in C as a float or int\n",
    "    * Do not round to a whole number; round to two decimal points in the output"
   ]
  },
  {
   "cell_type": "code",
   "execution_count": null,
   "metadata": {},
   "outputs": [],
   "source": [
    "\n",
    "\n",
    "\n",
    "\n",
    "\n",
    "\n",
    "\n"
   ]
  },
  {
   "cell_type": "markdown",
   "metadata": {},
   "source": [
    "4. Write a function that takes in one number and returns \"odd\" for odd numbers and \"even\" for even numbers"
   ]
  },
  {
   "cell_type": "code",
   "execution_count": null,
   "metadata": {},
   "outputs": [],
   "source": [
    "\n",
    "\n",
    "\n",
    "\n",
    "\n",
    "\n",
    "\n"
   ]
  },
  {
   "cell_type": "markdown",
   "metadata": {},
   "source": [
    "5. Write a function for checking the speed of drivers. This function should have one parameter: speed.\n",
    "    * If speed is less than 70, it should print “Ok”.\n",
    "    * Otherwise, for every 5mph above the speed limit (70), it should give the driver one demerit point and print the total number of demerit points. \n",
    "        * For example, if the speed is 80, it should print: “Points: 2”.\n",
    "    * If the driver gets more than 12 points, the function should print: “License suspended”"
   ]
  },
  {
   "cell_type": "code",
   "execution_count": null,
   "metadata": {},
   "outputs": [],
   "source": [
    "\n",
    "\n",
    "\n",
    "\n",
    "\n",
    "\n",
    "\n",
    "\n",
    "\n",
    "\n"
   ]
  },
  {
   "cell_type": "markdown",
   "metadata": {},
   "source": [
    "6. Using the odd/even function from number 4, create a function that multiplies even numbers by 2 and squares odd numbers"
   ]
  },
  {
   "cell_type": "code",
   "execution_count": null,
   "metadata": {},
   "outputs": [],
   "source": [
    "\n",
    "\n",
    "\n",
    "\n",
    "\n",
    "\n",
    "\n",
    "\n",
    "\n",
    "\n"
   ]
  }
 ],
 "metadata": {
  "kernelspec": {
   "display_name": "Python 3",
   "language": "python",
   "name": "python3"
  },
  "language_info": {
   "codemirror_mode": {
    "name": "ipython",
    "version": 3
   },
   "file_extension": ".py",
   "mimetype": "text/x-python",
   "name": "python",
   "nbconvert_exporter": "python",
   "pygments_lexer": "ipython3",
   "version": "3.8.8"
  }
 },
 "nbformat": 4,
 "nbformat_minor": 2
}
