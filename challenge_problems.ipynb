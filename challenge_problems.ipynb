{
 "cells": [
  {
   "cell_type": "markdown",
   "id": "8aba7201",
   "metadata": {},
   "source": [
    "\n",
    "# Create a function"
   ]
  },
  {
   "cell_type": "markdown",
   "id": "18661220",
   "metadata": {},
   "source": [
    "Suppose we have a number n. We have to display a string representation of all numbers from 1 to n, but there are some constraints.\n",
    "\n",
    "If the number is divisible by 3, write Fizz instead of the number\n",
    "If the number is divisible by 5, write Buzz instead of the number\n",
    "If the number is divisible by 3 and 5 both, write FizzBuzz instead of the number\n",
    "To solve this, we will follow these steps −\n",
    "\n",
    "For all number from 1 to n,\n",
    "if a number is divisible by 3 and 5 both, print “FizzBuzz”\n",
    "otherwise when the number is divisible by 3, print “Fizz”\n",
    "otherwise when the number is divisible by 5, print “Buzz”\n",
    "otherwise, write the number as a string"
   ]
  },
  {
   "cell_type": "code",
   "execution_count": null,
   "id": "7b86e3f1",
   "metadata": {},
   "outputs": [],
   "source": []
  },
  {
   "cell_type": "code",
   "execution_count": null,
   "id": "bdb36e22",
   "metadata": {},
   "outputs": [],
   "source": []
  },
  {
   "cell_type": "markdown",
   "id": "b912016d",
   "metadata": {},
   "source": [
    "Return the nth fibonacci number. Write a function that takes one argument and returns the value in the fibonacci series. \n",
    "Fibonacci series is defined as: a series of numbers in which each number (Fibonacci number) is the sum of the \n",
    "    two preceding numbers. \n",
    "    The simplest is the series 1, 1, 2, 3, 5, 8, etc. (source:Oxford)"
   ]
  },
  {
   "cell_type": "code",
   "execution_count": null,
   "id": "69d516e9",
   "metadata": {},
   "outputs": [],
   "source": []
  },
  {
   "cell_type": "code",
   "execution_count": null,
   "id": "3b2b4f7a",
   "metadata": {},
   "outputs": [],
   "source": []
  },
  {
   "cell_type": "markdown",
   "id": "8a41947e",
   "metadata": {},
   "source": [
    "# Regular Expressions for String Manipulation"
   ]
  },
  {
   "cell_type": "code",
   "execution_count": 1,
   "id": "3d18a511",
   "metadata": {},
   "outputs": [],
   "source": [
    "import re"
   ]
  },
  {
   "cell_type": "markdown",
   "id": "45a8893d",
   "metadata": {},
   "source": [
    "Find a tutorial and cheat sheet for regrex here:\n",
    "https://www.geeksforgeeks.org/regular-expression-python-examples-set-1/"
   ]
  },
  {
   "cell_type": "code",
   "execution_count": 2,
   "id": "032f6e2a",
   "metadata": {},
   "outputs": [],
   "source": [
    "# Suppose there is a free text \"comments\" field in a dataset and you want to extract relevant information\n",
    "# Using regex, extract the birthdates from the strings below\n",
    "string1 = \"\"\"Patient DOB 01/01/1955. No current medication\"\"\"\n",
    "string2 = \"\"\"Hot Wheels cake, red and orange. For boy. Will be picked up 3-25-21\"\"\"\n",
    "string3 = \"\"\"01/05/1999 order placed. 04/15/1999 order rec'd.\"\"\""
   ]
  },
  {
   "cell_type": "code",
   "execution_count": null,
   "id": "2c340d23",
   "metadata": {},
   "outputs": [],
   "source": []
  },
  {
   "cell_type": "code",
   "execution_count": null,
   "id": "7602de06",
   "metadata": {},
   "outputs": [],
   "source": []
  },
  {
   "cell_type": "code",
   "execution_count": 3,
   "id": "9fe098a5",
   "metadata": {},
   "outputs": [],
   "source": [
    "# Suppose you have a list of emails, but you need to construct a list of names\n",
    "# Using regex, create a dataframe of just the first and last names, with first names in one column and last names in another\n",
    "\n",
    "emails = \"\"\"becky.crawford@cgi.com, suzy.snowflake@cgi.com, patrick.star@cgi.com,\"\"\""
   ]
  },
  {
   "cell_type": "code",
   "execution_count": null,
   "id": "dfba30d4",
   "metadata": {},
   "outputs": [],
   "source": []
  },
  {
   "cell_type": "code",
   "execution_count": null,
   "id": "90cd63f1",
   "metadata": {},
   "outputs": [],
   "source": []
  },
  {
   "cell_type": "code",
   "execution_count": null,
   "id": "e5f1393b",
   "metadata": {},
   "outputs": [],
   "source": []
  },
  {
   "cell_type": "code",
   "execution_count": null,
   "id": "7107840d",
   "metadata": {},
   "outputs": [],
   "source": []
  },
  {
   "cell_type": "markdown",
   "id": "1dba6411",
   "metadata": {},
   "source": [
    "# Working with public APIs"
   ]
  },
  {
   "cell_type": "markdown",
   "id": "9b119370",
   "metadata": {},
   "source": [
    "We will use this site as reference: \n",
    "    https://realpython.com/python-api/#:~:text=When%20consuming%20APIs%20with%20Python%2C%20there%E2%80%99s%20only%20one,by%20running%20the%20following%20command%20in%20your%20console%3A"
   ]
  },
  {
   "cell_type": "markdown",
   "id": "f779fbe5",
   "metadata": {},
   "source": [
    "API stands for application programming interface. In essence, an API acts as a communication layer, \n",
    "or as the name says, an interface, that allows different systems to talk to each other without having to\n",
    "understand exactly what each other does.  You usually make a request for information or data, and the API \n",
    "returns a response with what you requested.  This is also known as calling an API.\n",
    "\n",
    "The main HTTP Methods are: GET, POST, PUT & DELETE"
   ]
  },
  {
   "cell_type": "markdown",
   "id": "f379141c",
   "metadata": {},
   "source": [
    "TO DO: run this in the terminal $ python -m pip install requests"
   ]
  },
  {
   "cell_type": "code",
   "execution_count": 4,
   "id": "919012e0",
   "metadata": {},
   "outputs": [
    {
     "data": {
      "text/plain": [
       "'{\"results\":[{\"gender\":\"female\",\"name\":{\"title\":\"Miss\",\"first\":\"Cremilda\",\"last\":\"Monteiro\"},\"location\":{\"street\":{\"number\":5131,\"name\":\"Rua Dezenove de Outubro\"},\"city\":\"Presidente Prudente\",\"state\":\"Espírito Santo\",\"country\":\"Brazil\",\"postcode\":85747,\"coordinates\":{\"latitude\":\"-75.6927\",\"longitude\":\"169.3651\"},\"timezone\":{\"offset\":\"-6:00\",\"description\":\"Central Time (US & Canada), Mexico City\"}},\"email\":\"cremilda.monteiro@example.com\",\"login\":{\"uuid\":\"294384b4-d26a-4207-89ec-aa18b85d3044\",\"username\":\"smallmouse691\",\"password\":\"valdepen\",\"salt\":\"jAPidEsJ\",\"md5\":\"b41125cc7a0783be27a00621266c71bb\",\"sha1\":\"da8753f2c045619c99e00caffee07540d78b6fef\",\"sha256\":\"386eb29fac2890bbe2d0eb6278c69af31daa1b8258e767ee9bc2960db0f01a89\"},\"dob\":{\"date\":\"1948-04-13T18:34:49.014Z\",\"age\":74},\"registered\":{\"date\":\"2011-02-25T09:30:39.298Z\",\"age\":11},\"phone\":\"(53) 8202-2799\",\"cell\":\"(74) 5172-2068\",\"id\":{\"name\":\"\",\"value\":null},\"picture\":{\"large\":\"https://randomuser.me/api/portraits/women/71.jpg\",\"medium\":\"https://randomuser.me/api/portraits/med/women/71.jpg\",\"thumbnail\":\"https://randomuser.me/api/portraits/thumb/women/71.jpg\"},\"nat\":\"BR\"}],\"info\":{\"seed\":\"3a2c2d275f99ee92\",\"results\":1,\"page\":1,\"version\":\"1.3\"}}'"
      ]
     },
     "execution_count": 4,
     "metadata": {},
     "output_type": "execute_result"
    }
   ],
   "source": [
    "import requests\n",
    "response = requests.get(\"https://randomuser.me/api/\")\n",
    "response.text"
   ]
  },
  {
   "cell_type": "code",
   "execution_count": 5,
   "id": "2879c6f4",
   "metadata": {},
   "outputs": [
    {
     "data": {
      "text/plain": [
       "'{\"weight\":{\"imperial\":\"25 - 30\",\"metric\":\"11 - 14\"},\"height\":{\"imperial\":\"10 - 12\",\"metric\":\"25 - 30\"},\"id\":184,\"name\":\"Pembroke Welsh Corgi\",\"bred_for\":\"Driving stock to market in northern Wales\",\"breed_group\":\"Herding\",\"life_span\":\"12 - 14 years\",\"temperament\":\"Tenacious, Outgoing, Friendly, Bold, Playful, Protective\",\"reference_image_id\":\"rJ6iQeqEm\"}'"
      ]
     },
     "execution_count": 5,
     "metadata": {},
     "output_type": "execute_result"
    }
   ],
   "source": [
    "response = requests.get(\"https://api.thedogapi.com/v1/breeds/184\")\n",
    "response.text"
   ]
  },
  {
   "cell_type": "code",
   "execution_count": 6,
   "id": "c2e4d12b",
   "metadata": {},
   "outputs": [
    {
     "data": {
      "text/plain": [
       "{'weight': {'imperial': '25 - 30', 'metric': '11 - 14'},\n",
       " 'height': {'imperial': '10 - 12', 'metric': '25 - 30'},\n",
       " 'id': 184,\n",
       " 'name': 'Pembroke Welsh Corgi',\n",
       " 'bred_for': 'Driving stock to market in northern Wales',\n",
       " 'breed_group': 'Herding',\n",
       " 'life_span': '12 - 14 years',\n",
       " 'temperament': 'Tenacious, Outgoing, Friendly, Bold, Playful, Protective',\n",
       " 'reference_image_id': 'rJ6iQeqEm'}"
      ]
     },
     "execution_count": 6,
     "metadata": {},
     "output_type": "execute_result"
    }
   ],
   "source": [
    "response.json()"
   ]
  },
  {
   "cell_type": "code",
   "execution_count": 7,
   "id": "923898e8",
   "metadata": {},
   "outputs": [
    {
     "data": {
      "text/plain": [
       "[{'weight': {'imperial': '25 - 38', 'metric': '11 - 17'},\n",
       "  'height': {'imperial': '10.5 - 12.5', 'metric': '27 - 32'},\n",
       "  'id': 68,\n",
       "  'name': 'Cardigan Welsh Corgi',\n",
       "  'bred_for': 'Cattle droving',\n",
       "  'breed_group': 'Herding',\n",
       "  'life_span': '12 - 14 years',\n",
       "  'temperament': 'Affectionate, Devoted, Alert, Companionable, Intelligent, Active',\n",
       "  'reference_image_id': 'SyXN-e9NX'},\n",
       " {'weight': {'imperial': '25 - 30', 'metric': '11 - 14'},\n",
       "  'height': {'imperial': '10 - 12', 'metric': '25 - 30'},\n",
       "  'id': 184,\n",
       "  'name': 'Pembroke Welsh Corgi',\n",
       "  'bred_for': 'Driving stock to market in northern Wales',\n",
       "  'breed_group': 'Herding',\n",
       "  'life_span': '12 - 14 years',\n",
       "  'temperament': 'Tenacious, Outgoing, Friendly, Bold, Playful, Protective',\n",
       "  'reference_image_id': 'rJ6iQeqEm'}]"
      ]
     },
     "execution_count": 7,
     "metadata": {},
     "output_type": "execute_result"
    }
   ],
   "source": [
    "query_params = {\"q\": \"Corgi\"}\n",
    "endpoint = \"https://api.thedogapi.com/v1/breeds/search\"\n",
    "requests.get(endpoint, params=query_params).json()"
   ]
  },
  {
   "cell_type": "markdown",
   "id": "2b3662ef",
   "metadata": {},
   "source": [
    "Read more about API's or even learn how to create a REST API Here: https://realpython.com/flask-connexion-rest-api/"
   ]
  },
  {
   "cell_type": "code",
   "execution_count": null,
   "id": "e1158253",
   "metadata": {},
   "outputs": [],
   "source": []
  }
 ],
 "metadata": {
  "kernelspec": {
   "display_name": "Python 3",
   "language": "python",
   "name": "python3"
  },
  "language_info": {
   "codemirror_mode": {
    "name": "ipython",
    "version": 3
   },
   "file_extension": ".py",
   "mimetype": "text/x-python",
   "name": "python",
   "nbconvert_exporter": "python",
   "pygments_lexer": "ipython3",
   "version": "3.8.8"
  }
 },
 "nbformat": 4,
 "nbformat_minor": 5
}
